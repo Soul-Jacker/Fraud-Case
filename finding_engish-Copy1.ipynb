{
 "cells": [
  {
   "cell_type": "code",
   "execution_count": 4,
   "metadata": {
    "scrolled": true
   },
   "outputs": [
    {
     "name": "stdout",
     "output_type": "stream",
     "text": [
      "Requirement already satisfied: regex in /Users/Oliver_2/opt/anaconda3/envs/anonimizer/lib/python3.8/site-packages (2022.4.24)\n"
     ]
    }
   ],
   "source": [
    "! pip3 install regex"
   ]
  },
  {
   "cell_type": "code",
   "execution_count": 5,
   "metadata": {},
   "outputs": [],
   "source": [
    "import pandas as pd\n",
    "import requests\n",
    "from bs4 import BeautifulSoup\n",
    "import urllib.request \n",
    "import regex as re\n",
    "import urllib.request \n",
    "from googletrans import Translator, constants\n",
    "from pprint import pprint\n",
    "translator = Translator()"
   ]
  },
  {
   "cell_type": "code",
   "execution_count": 6,
   "metadata": {},
   "outputs": [],
   "source": [
    "data = pd.read_csv(\"Fraud.csv\")"
   ]
  },
  {
   "cell_type": "code",
   "execution_count": 7,
   "metadata": {},
   "outputs": [
    {
     "data": {
      "text/html": [
       "<div>\n",
       "<style scoped>\n",
       "    .dataframe tbody tr th:only-of-type {\n",
       "        vertical-align: middle;\n",
       "    }\n",
       "\n",
       "    .dataframe tbody tr th {\n",
       "        vertical-align: top;\n",
       "    }\n",
       "\n",
       "    .dataframe thead th {\n",
       "        text-align: right;\n",
       "    }\n",
       "</style>\n",
       "<table border=\"1\" class=\"dataframe\">\n",
       "  <thead>\n",
       "    <tr style=\"text-align: right;\">\n",
       "      <th></th>\n",
       "      <th>Unnamed: 0</th>\n",
       "      <th>First_link</th>\n",
       "      <th>Change</th>\n",
       "      <th>Final_link</th>\n",
       "      <th>Title</th>\n",
       "      <th>Price</th>\n",
       "    </tr>\n",
       "  </thead>\n",
       "  <tbody>\n",
       "    <tr>\n",
       "      <th>0</th>\n",
       "      <td>0</td>\n",
       "      <td>http://123mi.ru/1/contract.php?r=1&amp;n=1&amp;m=1</td>\n",
       "      <td>n=1</td>\n",
       "      <td>http://123mi.ru/1/contract.php?r=1&amp;n=1&amp;m=1</td>\n",
       "      <td>Прогноз дорожной ситуации на базе статистическ...</td>\n",
       "      <td>57400</td>\n",
       "    </tr>\n",
       "    <tr>\n",
       "      <th>1</th>\n",
       "      <td>0</td>\n",
       "      <td>http://123mi.ru/1/contract.php?r=1&amp;n=1&amp;m=1</td>\n",
       "      <td>n=2</td>\n",
       "      <td>http://123mi.ru/1/contract.php?r=1&amp;n=1&amp;m=2</td>\n",
       "      <td>Прогноз дорожной ситуации на базе статистическ...</td>\n",
       "      <td>53300</td>\n",
       "    </tr>\n",
       "    <tr>\n",
       "      <th>2</th>\n",
       "      <td>0</td>\n",
       "      <td>http://123mi.ru/1/contract.php?r=1&amp;n=1&amp;m=1</td>\n",
       "      <td>n=3</td>\n",
       "      <td>http://123mi.ru/1/contract.php?r=1&amp;n=1&amp;m=3</td>\n",
       "      <td>Прогноз дорожной ситуации на базе статистическ...</td>\n",
       "      <td>49200</td>\n",
       "    </tr>\n",
       "    <tr>\n",
       "      <th>3</th>\n",
       "      <td>0</td>\n",
       "      <td>http://123mi.ru/1/contract.php?r=1&amp;n=1&amp;m=1</td>\n",
       "      <td>n=4</td>\n",
       "      <td>http://123mi.ru/1/contract.php?r=1&amp;n=1&amp;m=4</td>\n",
       "      <td>Прогноз дорожной ситуации на базе статистическ...</td>\n",
       "      <td>45100</td>\n",
       "    </tr>\n",
       "    <tr>\n",
       "      <th>4</th>\n",
       "      <td>0</td>\n",
       "      <td>http://123mi.ru/1/contract.php?r=1&amp;n=1&amp;m=1</td>\n",
       "      <td>n=5</td>\n",
       "      <td>http://123mi.ru/1/contract.php?r=1&amp;n=1&amp;m=5</td>\n",
       "      <td>Прогноз дорожной ситуации на базе статистическ...</td>\n",
       "      <td>41000</td>\n",
       "    </tr>\n",
       "    <tr>\n",
       "      <th>5</th>\n",
       "      <td>0</td>\n",
       "      <td>http://123mi.ru/1/contract.php?r=1&amp;n=2&amp;m=1</td>\n",
       "      <td>n=1</td>\n",
       "      <td>http://123mi.ru/1/contract.php?r=1&amp;n=2&amp;m=1</td>\n",
       "      <td>Аддитивные технологии и оптимизация геометрии ...</td>\n",
       "      <td>39360</td>\n",
       "    </tr>\n",
       "    <tr>\n",
       "      <th>6</th>\n",
       "      <td>0</td>\n",
       "      <td>http://123mi.ru/1/contract.php?r=1&amp;n=2&amp;m=1</td>\n",
       "      <td>n=2</td>\n",
       "      <td>http://123mi.ru/1/contract.php?r=1&amp;n=2&amp;m=2</td>\n",
       "      <td>Аддитивные технологии и оптимизация геометрии ...</td>\n",
       "      <td>36080</td>\n",
       "    </tr>\n",
       "    <tr>\n",
       "      <th>7</th>\n",
       "      <td>0</td>\n",
       "      <td>http://123mi.ru/1/contract.php?r=1&amp;n=2&amp;m=1</td>\n",
       "      <td>n=3</td>\n",
       "      <td>http://123mi.ru/1/contract.php?r=1&amp;n=2&amp;m=3</td>\n",
       "      <td>Аддитивные технологии и оптимизация геометрии ...</td>\n",
       "      <td>32800</td>\n",
       "    </tr>\n",
       "    <tr>\n",
       "      <th>8</th>\n",
       "      <td>0</td>\n",
       "      <td>http://123mi.ru/1/contract.php?r=1&amp;n=2&amp;m=1</td>\n",
       "      <td>n=4</td>\n",
       "      <td>http://123mi.ru/1/contract.php?r=1&amp;n=2&amp;m=4</td>\n",
       "      <td>Аддитивные технологии и оптимизация геометрии ...</td>\n",
       "      <td>0</td>\n",
       "    </tr>\n",
       "    <tr>\n",
       "      <th>9</th>\n",
       "      <td>0</td>\n",
       "      <td>http://123mi.ru/1/contract.php?r=1&amp;n=2&amp;m=1</td>\n",
       "      <td>n=5</td>\n",
       "      <td>http://123mi.ru/1/contract.php?r=1&amp;n=2&amp;m=5</td>\n",
       "      <td>Аддитивные технологии и оптимизация геометрии ...</td>\n",
       "      <td>0</td>\n",
       "    </tr>\n",
       "    <tr>\n",
       "      <th>10</th>\n",
       "      <td>0</td>\n",
       "      <td>http://123mi.ru/1/contract.php?r=1&amp;n=3&amp;m=1</td>\n",
       "      <td>n=1</td>\n",
       "      <td>http://123mi.ru/1/contract.php?r=1&amp;n=3&amp;m=1</td>\n",
       "      <td>Аддитивные технологии в производстве кондитерс...</td>\n",
       "      <td>90200</td>\n",
       "    </tr>\n",
       "    <tr>\n",
       "      <th>11</th>\n",
       "      <td>0</td>\n",
       "      <td>http://123mi.ru/1/contract.php?r=1&amp;n=3&amp;m=1</td>\n",
       "      <td>n=2</td>\n",
       "      <td>http://123mi.ru/1/contract.php?r=1&amp;n=3&amp;m=2</td>\n",
       "      <td>Аддитивные технологии в производстве кондитерс...</td>\n",
       "      <td>82000</td>\n",
       "    </tr>\n",
       "    <tr>\n",
       "      <th>12</th>\n",
       "      <td>0</td>\n",
       "      <td>http://123mi.ru/1/contract.php?r=1&amp;n=3&amp;m=1</td>\n",
       "      <td>n=3</td>\n",
       "      <td>http://123mi.ru/1/contract.php?r=1&amp;n=3&amp;m=3</td>\n",
       "      <td>Аддитивные технологии в производстве кондитерс...</td>\n",
       "      <td>73800</td>\n",
       "    </tr>\n",
       "    <tr>\n",
       "      <th>13</th>\n",
       "      <td>0</td>\n",
       "      <td>http://123mi.ru/1/contract.php?r=1&amp;n=3&amp;m=1</td>\n",
       "      <td>n=4</td>\n",
       "      <td>http://123mi.ru/1/contract.php?r=1&amp;n=3&amp;m=4</td>\n",
       "      <td>Аддитивные технологии в производстве кондитерс...</td>\n",
       "      <td>0</td>\n",
       "    </tr>\n",
       "    <tr>\n",
       "      <th>14</th>\n",
       "      <td>0</td>\n",
       "      <td>http://123mi.ru/1/contract.php?r=1&amp;n=3&amp;m=1</td>\n",
       "      <td>n=5</td>\n",
       "      <td>http://123mi.ru/1/contract.php?r=1&amp;n=3&amp;m=5</td>\n",
       "      <td>Аддитивные технологии в производстве кондитерс...</td>\n",
       "      <td>0</td>\n",
       "    </tr>\n",
       "    <tr>\n",
       "      <th>15</th>\n",
       "      <td>0</td>\n",
       "      <td>http://123mi.ru/1/contract.php?r=1&amp;n=4&amp;m=1</td>\n",
       "      <td>n=1</td>\n",
       "      <td>http://123mi.ru/1/contract.php?r=1&amp;n=4&amp;m=1</td>\n",
       "      <td>Муравьиный алгоритм как инструмент оптимизации...</td>\n",
       "      <td>90200</td>\n",
       "    </tr>\n",
       "    <tr>\n",
       "      <th>16</th>\n",
       "      <td>0</td>\n",
       "      <td>http://123mi.ru/1/contract.php?r=1&amp;n=4&amp;m=1</td>\n",
       "      <td>n=2</td>\n",
       "      <td>http://123mi.ru/1/contract.php?r=1&amp;n=4&amp;m=2</td>\n",
       "      <td>Муравьиный алгоритм как инструмент оптимизации...</td>\n",
       "      <td>82000</td>\n",
       "    </tr>\n",
       "    <tr>\n",
       "      <th>17</th>\n",
       "      <td>0</td>\n",
       "      <td>http://123mi.ru/1/contract.php?r=1&amp;n=4&amp;m=1</td>\n",
       "      <td>n=3</td>\n",
       "      <td>http://123mi.ru/1/contract.php?r=1&amp;n=4&amp;m=3</td>\n",
       "      <td>Муравьиный алгоритм как инструмент оптимизации...</td>\n",
       "      <td>73800</td>\n",
       "    </tr>\n",
       "    <tr>\n",
       "      <th>18</th>\n",
       "      <td>0</td>\n",
       "      <td>http://123mi.ru/1/contract.php?r=1&amp;n=4&amp;m=1</td>\n",
       "      <td>n=4</td>\n",
       "      <td>http://123mi.ru/1/contract.php?r=1&amp;n=4&amp;m=4</td>\n",
       "      <td>Муравьиный алгоритм как инструмент оптимизации...</td>\n",
       "      <td>0</td>\n",
       "    </tr>\n",
       "    <tr>\n",
       "      <th>19</th>\n",
       "      <td>0</td>\n",
       "      <td>http://123mi.ru/1/contract.php?r=1&amp;n=4&amp;m=1</td>\n",
       "      <td>n=5</td>\n",
       "      <td>http://123mi.ru/1/contract.php?r=1&amp;n=4&amp;m=5</td>\n",
       "      <td>Муравьиный алгоритм как инструмент оптимизации...</td>\n",
       "      <td>0</td>\n",
       "    </tr>\n",
       "    <tr>\n",
       "      <th>20</th>\n",
       "      <td>0</td>\n",
       "      <td>http://123mi.ru/1/contract.php?r=1&amp;n=5&amp;m=1</td>\n",
       "      <td>n=1</td>\n",
       "      <td>http://123mi.ru/1/contract.php?r=1&amp;n=5&amp;m=1</td>\n",
       "      <td>Особенности  учета материальных потоков для эф...</td>\n",
       "      <td>57400</td>\n",
       "    </tr>\n",
       "    <tr>\n",
       "      <th>21</th>\n",
       "      <td>0</td>\n",
       "      <td>http://123mi.ru/1/contract.php?r=1&amp;n=5&amp;m=1</td>\n",
       "      <td>n=2</td>\n",
       "      <td>http://123mi.ru/1/contract.php?r=1&amp;n=5&amp;m=2</td>\n",
       "      <td>Особенности  учета материальных потоков для эф...</td>\n",
       "      <td>49200</td>\n",
       "    </tr>\n",
       "    <tr>\n",
       "      <th>22</th>\n",
       "      <td>0</td>\n",
       "      <td>http://123mi.ru/1/contract.php?r=1&amp;n=5&amp;m=1</td>\n",
       "      <td>n=3</td>\n",
       "      <td>http://123mi.ru/1/contract.php?r=1&amp;n=5&amp;m=3</td>\n",
       "      <td>Особенности  учета материальных потоков для эф...</td>\n",
       "      <td>41000</td>\n",
       "    </tr>\n",
       "    <tr>\n",
       "      <th>23</th>\n",
       "      <td>0</td>\n",
       "      <td>http://123mi.ru/1/contract.php?r=1&amp;n=5&amp;m=1</td>\n",
       "      <td>n=4</td>\n",
       "      <td>http://123mi.ru/1/contract.php?r=1&amp;n=5&amp;m=4</td>\n",
       "      <td>Особенности  учета материальных потоков для эф...</td>\n",
       "      <td>0</td>\n",
       "    </tr>\n",
       "    <tr>\n",
       "      <th>24</th>\n",
       "      <td>0</td>\n",
       "      <td>http://123mi.ru/1/contract.php?r=1&amp;n=5&amp;m=1</td>\n",
       "      <td>n=5</td>\n",
       "      <td>http://123mi.ru/1/contract.php?r=1&amp;n=5&amp;m=5</td>\n",
       "      <td>Особенности  учета материальных потоков для эф...</td>\n",
       "      <td>0</td>\n",
       "    </tr>\n",
       "    <tr>\n",
       "      <th>25</th>\n",
       "      <td>0</td>\n",
       "      <td>http://123mi.ru/1/contract.php?r=1&amp;n=6&amp;m=1</td>\n",
       "      <td>n=1</td>\n",
       "      <td>http://123mi.ru/1/contract.php?r=1&amp;n=6&amp;m=1</td>\n",
       "      <td>Устойчивое управления цепочками поставок и дин...</td>\n",
       "      <td>57400</td>\n",
       "    </tr>\n",
       "    <tr>\n",
       "      <th>26</th>\n",
       "      <td>0</td>\n",
       "      <td>http://123mi.ru/1/contract.php?r=1&amp;n=6&amp;m=1</td>\n",
       "      <td>n=2</td>\n",
       "      <td>http://123mi.ru/1/contract.php?r=1&amp;n=6&amp;m=2</td>\n",
       "      <td>Устойчивое управления цепочками поставок и дин...</td>\n",
       "      <td>49200</td>\n",
       "    </tr>\n",
       "    <tr>\n",
       "      <th>27</th>\n",
       "      <td>0</td>\n",
       "      <td>http://123mi.ru/1/contract.php?r=1&amp;n=6&amp;m=1</td>\n",
       "      <td>n=3</td>\n",
       "      <td>http://123mi.ru/1/contract.php?r=1&amp;n=6&amp;m=3</td>\n",
       "      <td>Устойчивое управления цепочками поставок и дин...</td>\n",
       "      <td>41000</td>\n",
       "    </tr>\n",
       "    <tr>\n",
       "      <th>28</th>\n",
       "      <td>0</td>\n",
       "      <td>http://123mi.ru/1/contract.php?r=1&amp;n=6&amp;m=1</td>\n",
       "      <td>n=4</td>\n",
       "      <td>http://123mi.ru/1/contract.php?r=1&amp;n=6&amp;m=4</td>\n",
       "      <td>Устойчивое управления цепочками поставок и дин...</td>\n",
       "      <td>0</td>\n",
       "    </tr>\n",
       "    <tr>\n",
       "      <th>29</th>\n",
       "      <td>0</td>\n",
       "      <td>http://123mi.ru/1/contract.php?r=1&amp;n=6&amp;m=1</td>\n",
       "      <td>n=5</td>\n",
       "      <td>http://123mi.ru/1/contract.php?r=1&amp;n=6&amp;m=5</td>\n",
       "      <td>Устойчивое управления цепочками поставок и дин...</td>\n",
       "      <td>0</td>\n",
       "    </tr>\n",
       "    <tr>\n",
       "      <th>30</th>\n",
       "      <td>0</td>\n",
       "      <td>http://123mi.ru/1/contract.php?r=1&amp;n=7&amp;m=1</td>\n",
       "      <td>n=1</td>\n",
       "      <td>http://123mi.ru/1/contract.php?r=1&amp;n=7&amp;m=1</td>\n",
       "      <td>Конкурентное преимущество использования информ...</td>\n",
       "      <td>57400</td>\n",
       "    </tr>\n",
       "    <tr>\n",
       "      <th>31</th>\n",
       "      <td>0</td>\n",
       "      <td>http://123mi.ru/1/contract.php?r=1&amp;n=7&amp;m=1</td>\n",
       "      <td>n=2</td>\n",
       "      <td>http://123mi.ru/1/contract.php?r=1&amp;n=7&amp;m=2</td>\n",
       "      <td>Конкурентное преимущество использования информ...</td>\n",
       "      <td>49200</td>\n",
       "    </tr>\n",
       "    <tr>\n",
       "      <th>32</th>\n",
       "      <td>0</td>\n",
       "      <td>http://123mi.ru/1/contract.php?r=1&amp;n=7&amp;m=1</td>\n",
       "      <td>n=3</td>\n",
       "      <td>http://123mi.ru/1/contract.php?r=1&amp;n=7&amp;m=3</td>\n",
       "      <td>Конкурентное преимущество использования информ...</td>\n",
       "      <td>41000</td>\n",
       "    </tr>\n",
       "    <tr>\n",
       "      <th>33</th>\n",
       "      <td>0</td>\n",
       "      <td>http://123mi.ru/1/contract.php?r=1&amp;n=7&amp;m=1</td>\n",
       "      <td>n=4</td>\n",
       "      <td>http://123mi.ru/1/contract.php?r=1&amp;n=7&amp;m=4</td>\n",
       "      <td>Конкурентное преимущество использования информ...</td>\n",
       "      <td>0</td>\n",
       "    </tr>\n",
       "    <tr>\n",
       "      <th>34</th>\n",
       "      <td>0</td>\n",
       "      <td>http://123mi.ru/1/contract.php?r=1&amp;n=7&amp;m=1</td>\n",
       "      <td>n=5</td>\n",
       "      <td>http://123mi.ru/1/contract.php?r=1&amp;n=7&amp;m=5</td>\n",
       "      <td>Конкурентное преимущество использования информ...</td>\n",
       "      <td>0</td>\n",
       "    </tr>\n",
       "    <tr>\n",
       "      <th>35</th>\n",
       "      <td>0</td>\n",
       "      <td>http://123mi.ru/1/contract.php?r=1&amp;n=8&amp;m=1</td>\n",
       "      <td>n=1</td>\n",
       "      <td>http://123mi.ru/1/contract.php?r=1&amp;n=8&amp;m=1</td>\n",
       "      <td>Роль управление цепочкой поставок для двухуров...</td>\n",
       "      <td>57400</td>\n",
       "    </tr>\n",
       "    <tr>\n",
       "      <th>36</th>\n",
       "      <td>0</td>\n",
       "      <td>http://123mi.ru/1/contract.php?r=1&amp;n=8&amp;m=1</td>\n",
       "      <td>n=2</td>\n",
       "      <td>http://123mi.ru/1/contract.php?r=1&amp;n=8&amp;m=2</td>\n",
       "      <td>Роль управление цепочкой поставок для двухуров...</td>\n",
       "      <td>49200</td>\n",
       "    </tr>\n",
       "    <tr>\n",
       "      <th>37</th>\n",
       "      <td>0</td>\n",
       "      <td>http://123mi.ru/1/contract.php?r=1&amp;n=8&amp;m=1</td>\n",
       "      <td>n=3</td>\n",
       "      <td>http://123mi.ru/1/contract.php?r=1&amp;n=8&amp;m=3</td>\n",
       "      <td>Роль управление цепочкой поставок для двухуров...</td>\n",
       "      <td>41000</td>\n",
       "    </tr>\n",
       "    <tr>\n",
       "      <th>38</th>\n",
       "      <td>0</td>\n",
       "      <td>http://123mi.ru/1/contract.php?r=1&amp;n=8&amp;m=1</td>\n",
       "      <td>n=4</td>\n",
       "      <td>http://123mi.ru/1/contract.php?r=1&amp;n=8&amp;m=4</td>\n",
       "      <td>Роль управление цепочкой поставок для двухуров...</td>\n",
       "      <td>0</td>\n",
       "    </tr>\n",
       "    <tr>\n",
       "      <th>39</th>\n",
       "      <td>0</td>\n",
       "      <td>http://123mi.ru/1/contract.php?r=1&amp;n=8&amp;m=1</td>\n",
       "      <td>n=5</td>\n",
       "      <td>http://123mi.ru/1/contract.php?r=1&amp;n=8&amp;m=5</td>\n",
       "      <td>Роль управление цепочкой поставок для двухуров...</td>\n",
       "      <td>0</td>\n",
       "    </tr>\n",
       "    <tr>\n",
       "      <th>40</th>\n",
       "      <td>0</td>\n",
       "      <td>http://123mi.ru/1/contract.php?r=1&amp;n=9&amp;m=1</td>\n",
       "      <td>n=1</td>\n",
       "      <td>http://123mi.ru/1/contract.php?r=1&amp;n=9&amp;m=1</td>\n",
       "      <td>Возможности и барьеры гибкого управления цепоч...</td>\n",
       "      <td>41000</td>\n",
       "    </tr>\n",
       "    <tr>\n",
       "      <th>41</th>\n",
       "      <td>0</td>\n",
       "      <td>http://123mi.ru/1/contract.php?r=1&amp;n=9&amp;m=1</td>\n",
       "      <td>n=2</td>\n",
       "      <td>http://123mi.ru/1/contract.php?r=1&amp;n=9&amp;m=2</td>\n",
       "      <td>Возможности и барьеры гибкого управления цепоч...</td>\n",
       "      <td>37720</td>\n",
       "    </tr>\n",
       "    <tr>\n",
       "      <th>42</th>\n",
       "      <td>0</td>\n",
       "      <td>http://123mi.ru/1/contract.php?r=1&amp;n=9&amp;m=1</td>\n",
       "      <td>n=3</td>\n",
       "      <td>http://123mi.ru/1/contract.php?r=1&amp;n=9&amp;m=3</td>\n",
       "      <td>Возможности и барьеры гибкого управления цепоч...</td>\n",
       "      <td>36080</td>\n",
       "    </tr>\n",
       "    <tr>\n",
       "      <th>43</th>\n",
       "      <td>0</td>\n",
       "      <td>http://123mi.ru/1/contract.php?r=1&amp;n=9&amp;m=1</td>\n",
       "      <td>n=4</td>\n",
       "      <td>http://123mi.ru/1/contract.php?r=1&amp;n=9&amp;m=4</td>\n",
       "      <td>Возможности и барьеры гибкого управления цепоч...</td>\n",
       "      <td>32800</td>\n",
       "    </tr>\n",
       "    <tr>\n",
       "      <th>44</th>\n",
       "      <td>0</td>\n",
       "      <td>http://123mi.ru/1/contract.php?r=1&amp;n=9&amp;m=1</td>\n",
       "      <td>n=5</td>\n",
       "      <td>http://123mi.ru/1/contract.php?r=1&amp;n=9&amp;m=5</td>\n",
       "      <td>Возможности и барьеры гибкого управления цепоч...</td>\n",
       "      <td>0</td>\n",
       "    </tr>\n",
       "  </tbody>\n",
       "</table>\n",
       "</div>"
      ],
      "text/plain": [
       "    Unnamed: 0                                  First_link Change  \\\n",
       "0            0  http://123mi.ru/1/contract.php?r=1&n=1&m=1    n=1   \n",
       "1            0  http://123mi.ru/1/contract.php?r=1&n=1&m=1    n=2   \n",
       "2            0  http://123mi.ru/1/contract.php?r=1&n=1&m=1    n=3   \n",
       "3            0  http://123mi.ru/1/contract.php?r=1&n=1&m=1    n=4   \n",
       "4            0  http://123mi.ru/1/contract.php?r=1&n=1&m=1    n=5   \n",
       "5            0  http://123mi.ru/1/contract.php?r=1&n=2&m=1    n=1   \n",
       "6            0  http://123mi.ru/1/contract.php?r=1&n=2&m=1    n=2   \n",
       "7            0  http://123mi.ru/1/contract.php?r=1&n=2&m=1    n=3   \n",
       "8            0  http://123mi.ru/1/contract.php?r=1&n=2&m=1    n=4   \n",
       "9            0  http://123mi.ru/1/contract.php?r=1&n=2&m=1    n=5   \n",
       "10           0  http://123mi.ru/1/contract.php?r=1&n=3&m=1    n=1   \n",
       "11           0  http://123mi.ru/1/contract.php?r=1&n=3&m=1    n=2   \n",
       "12           0  http://123mi.ru/1/contract.php?r=1&n=3&m=1    n=3   \n",
       "13           0  http://123mi.ru/1/contract.php?r=1&n=3&m=1    n=4   \n",
       "14           0  http://123mi.ru/1/contract.php?r=1&n=3&m=1    n=5   \n",
       "15           0  http://123mi.ru/1/contract.php?r=1&n=4&m=1    n=1   \n",
       "16           0  http://123mi.ru/1/contract.php?r=1&n=4&m=1    n=2   \n",
       "17           0  http://123mi.ru/1/contract.php?r=1&n=4&m=1    n=3   \n",
       "18           0  http://123mi.ru/1/contract.php?r=1&n=4&m=1    n=4   \n",
       "19           0  http://123mi.ru/1/contract.php?r=1&n=4&m=1    n=5   \n",
       "20           0  http://123mi.ru/1/contract.php?r=1&n=5&m=1    n=1   \n",
       "21           0  http://123mi.ru/1/contract.php?r=1&n=5&m=1    n=2   \n",
       "22           0  http://123mi.ru/1/contract.php?r=1&n=5&m=1    n=3   \n",
       "23           0  http://123mi.ru/1/contract.php?r=1&n=5&m=1    n=4   \n",
       "24           0  http://123mi.ru/1/contract.php?r=1&n=5&m=1    n=5   \n",
       "25           0  http://123mi.ru/1/contract.php?r=1&n=6&m=1    n=1   \n",
       "26           0  http://123mi.ru/1/contract.php?r=1&n=6&m=1    n=2   \n",
       "27           0  http://123mi.ru/1/contract.php?r=1&n=6&m=1    n=3   \n",
       "28           0  http://123mi.ru/1/contract.php?r=1&n=6&m=1    n=4   \n",
       "29           0  http://123mi.ru/1/contract.php?r=1&n=6&m=1    n=5   \n",
       "30           0  http://123mi.ru/1/contract.php?r=1&n=7&m=1    n=1   \n",
       "31           0  http://123mi.ru/1/contract.php?r=1&n=7&m=1    n=2   \n",
       "32           0  http://123mi.ru/1/contract.php?r=1&n=7&m=1    n=3   \n",
       "33           0  http://123mi.ru/1/contract.php?r=1&n=7&m=1    n=4   \n",
       "34           0  http://123mi.ru/1/contract.php?r=1&n=7&m=1    n=5   \n",
       "35           0  http://123mi.ru/1/contract.php?r=1&n=8&m=1    n=1   \n",
       "36           0  http://123mi.ru/1/contract.php?r=1&n=8&m=1    n=2   \n",
       "37           0  http://123mi.ru/1/contract.php?r=1&n=8&m=1    n=3   \n",
       "38           0  http://123mi.ru/1/contract.php?r=1&n=8&m=1    n=4   \n",
       "39           0  http://123mi.ru/1/contract.php?r=1&n=8&m=1    n=5   \n",
       "40           0  http://123mi.ru/1/contract.php?r=1&n=9&m=1    n=1   \n",
       "41           0  http://123mi.ru/1/contract.php?r=1&n=9&m=1    n=2   \n",
       "42           0  http://123mi.ru/1/contract.php?r=1&n=9&m=1    n=3   \n",
       "43           0  http://123mi.ru/1/contract.php?r=1&n=9&m=1    n=4   \n",
       "44           0  http://123mi.ru/1/contract.php?r=1&n=9&m=1    n=5   \n",
       "\n",
       "                                    Final_link  \\\n",
       "0   http://123mi.ru/1/contract.php?r=1&n=1&m=1   \n",
       "1   http://123mi.ru/1/contract.php?r=1&n=1&m=2   \n",
       "2   http://123mi.ru/1/contract.php?r=1&n=1&m=3   \n",
       "3   http://123mi.ru/1/contract.php?r=1&n=1&m=4   \n",
       "4   http://123mi.ru/1/contract.php?r=1&n=1&m=5   \n",
       "5   http://123mi.ru/1/contract.php?r=1&n=2&m=1   \n",
       "6   http://123mi.ru/1/contract.php?r=1&n=2&m=2   \n",
       "7   http://123mi.ru/1/contract.php?r=1&n=2&m=3   \n",
       "8   http://123mi.ru/1/contract.php?r=1&n=2&m=4   \n",
       "9   http://123mi.ru/1/contract.php?r=1&n=2&m=5   \n",
       "10  http://123mi.ru/1/contract.php?r=1&n=3&m=1   \n",
       "11  http://123mi.ru/1/contract.php?r=1&n=3&m=2   \n",
       "12  http://123mi.ru/1/contract.php?r=1&n=3&m=3   \n",
       "13  http://123mi.ru/1/contract.php?r=1&n=3&m=4   \n",
       "14  http://123mi.ru/1/contract.php?r=1&n=3&m=5   \n",
       "15  http://123mi.ru/1/contract.php?r=1&n=4&m=1   \n",
       "16  http://123mi.ru/1/contract.php?r=1&n=4&m=2   \n",
       "17  http://123mi.ru/1/contract.php?r=1&n=4&m=3   \n",
       "18  http://123mi.ru/1/contract.php?r=1&n=4&m=4   \n",
       "19  http://123mi.ru/1/contract.php?r=1&n=4&m=5   \n",
       "20  http://123mi.ru/1/contract.php?r=1&n=5&m=1   \n",
       "21  http://123mi.ru/1/contract.php?r=1&n=5&m=2   \n",
       "22  http://123mi.ru/1/contract.php?r=1&n=5&m=3   \n",
       "23  http://123mi.ru/1/contract.php?r=1&n=5&m=4   \n",
       "24  http://123mi.ru/1/contract.php?r=1&n=5&m=5   \n",
       "25  http://123mi.ru/1/contract.php?r=1&n=6&m=1   \n",
       "26  http://123mi.ru/1/contract.php?r=1&n=6&m=2   \n",
       "27  http://123mi.ru/1/contract.php?r=1&n=6&m=3   \n",
       "28  http://123mi.ru/1/contract.php?r=1&n=6&m=4   \n",
       "29  http://123mi.ru/1/contract.php?r=1&n=6&m=5   \n",
       "30  http://123mi.ru/1/contract.php?r=1&n=7&m=1   \n",
       "31  http://123mi.ru/1/contract.php?r=1&n=7&m=2   \n",
       "32  http://123mi.ru/1/contract.php?r=1&n=7&m=3   \n",
       "33  http://123mi.ru/1/contract.php?r=1&n=7&m=4   \n",
       "34  http://123mi.ru/1/contract.php?r=1&n=7&m=5   \n",
       "35  http://123mi.ru/1/contract.php?r=1&n=8&m=1   \n",
       "36  http://123mi.ru/1/contract.php?r=1&n=8&m=2   \n",
       "37  http://123mi.ru/1/contract.php?r=1&n=8&m=3   \n",
       "38  http://123mi.ru/1/contract.php?r=1&n=8&m=4   \n",
       "39  http://123mi.ru/1/contract.php?r=1&n=8&m=5   \n",
       "40  http://123mi.ru/1/contract.php?r=1&n=9&m=1   \n",
       "41  http://123mi.ru/1/contract.php?r=1&n=9&m=2   \n",
       "42  http://123mi.ru/1/contract.php?r=1&n=9&m=3   \n",
       "43  http://123mi.ru/1/contract.php?r=1&n=9&m=4   \n",
       "44  http://123mi.ru/1/contract.php?r=1&n=9&m=5   \n",
       "\n",
       "                                                Title  Price  \n",
       "0   Прогноз дорожной ситуации на базе статистическ...  57400  \n",
       "1   Прогноз дорожной ситуации на базе статистическ...  53300  \n",
       "2   Прогноз дорожной ситуации на базе статистическ...  49200  \n",
       "3   Прогноз дорожной ситуации на базе статистическ...  45100  \n",
       "4   Прогноз дорожной ситуации на базе статистическ...  41000  \n",
       "5   Аддитивные технологии и оптимизация геометрии ...  39360  \n",
       "6   Аддитивные технологии и оптимизация геометрии ...  36080  \n",
       "7   Аддитивные технологии и оптимизация геометрии ...  32800  \n",
       "8   Аддитивные технологии и оптимизация геометрии ...      0  \n",
       "9   Аддитивные технологии и оптимизация геометрии ...      0  \n",
       "10  Аддитивные технологии в производстве кондитерс...  90200  \n",
       "11  Аддитивные технологии в производстве кондитерс...  82000  \n",
       "12  Аддитивные технологии в производстве кондитерс...  73800  \n",
       "13  Аддитивные технологии в производстве кондитерс...      0  \n",
       "14  Аддитивные технологии в производстве кондитерс...      0  \n",
       "15  Муравьиный алгоритм как инструмент оптимизации...  90200  \n",
       "16  Муравьиный алгоритм как инструмент оптимизации...  82000  \n",
       "17  Муравьиный алгоритм как инструмент оптимизации...  73800  \n",
       "18  Муравьиный алгоритм как инструмент оптимизации...      0  \n",
       "19  Муравьиный алгоритм как инструмент оптимизации...      0  \n",
       "20  Особенности  учета материальных потоков для эф...  57400  \n",
       "21  Особенности  учета материальных потоков для эф...  49200  \n",
       "22  Особенности  учета материальных потоков для эф...  41000  \n",
       "23  Особенности  учета материальных потоков для эф...      0  \n",
       "24  Особенности  учета материальных потоков для эф...      0  \n",
       "25  Устойчивое управления цепочками поставок и дин...  57400  \n",
       "26  Устойчивое управления цепочками поставок и дин...  49200  \n",
       "27  Устойчивое управления цепочками поставок и дин...  41000  \n",
       "28  Устойчивое управления цепочками поставок и дин...      0  \n",
       "29  Устойчивое управления цепочками поставок и дин...      0  \n",
       "30  Конкурентное преимущество использования информ...  57400  \n",
       "31  Конкурентное преимущество использования информ...  49200  \n",
       "32  Конкурентное преимущество использования информ...  41000  \n",
       "33  Конкурентное преимущество использования информ...      0  \n",
       "34  Конкурентное преимущество использования информ...      0  \n",
       "35  Роль управление цепочкой поставок для двухуров...  57400  \n",
       "36  Роль управление цепочкой поставок для двухуров...  49200  \n",
       "37  Роль управление цепочкой поставок для двухуров...  41000  \n",
       "38  Роль управление цепочкой поставок для двухуров...      0  \n",
       "39  Роль управление цепочкой поставок для двухуров...      0  \n",
       "40  Возможности и барьеры гибкого управления цепоч...  41000  \n",
       "41  Возможности и барьеры гибкого управления цепоч...  37720  \n",
       "42  Возможности и барьеры гибкого управления цепоч...  36080  \n",
       "43  Возможности и барьеры гибкого управления цепоч...  32800  \n",
       "44  Возможности и барьеры гибкого управления цепоч...      0  "
      ]
     },
     "execution_count": 7,
     "metadata": {},
     "output_type": "execute_result"
    }
   ],
   "source": [
    "data"
   ]
  },
  {
   "cell_type": "code",
   "execution_count": 8,
   "metadata": {
    "collapsed": true,
    "jupyter": {
     "outputs_hidden": true
    },
    "tags": []
   },
   "outputs": [
    {
     "name": "stdout",
     "output_type": "stream",
     "text": [
      "Forecast traffic situation based on statistical data to optimize the movement of public transport in real time.\n"
     ]
    },
    {
     "name": "stderr",
     "output_type": "stream",
     "text": [
      "/var/folders/h4/7gdsmfk52dl1hmwgr61mg_gm0000gq/T/ipykernel_19920/2846863605.py:9: FutureWarning: The frame.append method is deprecated and will be removed from pandas in a future version. Use pandas.concat instead.\n",
      "  second_part = second_part.append(almost_done)\n",
      "/var/folders/h4/7gdsmfk52dl1hmwgr61mg_gm0000gq/T/ipykernel_19920/2846863605.py:9: FutureWarning: The frame.append method is deprecated and will be removed from pandas in a future version. Use pandas.concat instead.\n",
      "  second_part = second_part.append(almost_done)\n"
     ]
    },
    {
     "name": "stdout",
     "output_type": "stream",
     "text": [
      "Forecast traffic situation based on statistical data to optimize the movement of public transport in real time.\n",
      "Forecast traffic situation based on statistical data to optimize the movement of public transport in real time.\n"
     ]
    },
    {
     "name": "stderr",
     "output_type": "stream",
     "text": [
      "/var/folders/h4/7gdsmfk52dl1hmwgr61mg_gm0000gq/T/ipykernel_19920/2846863605.py:9: FutureWarning: The frame.append method is deprecated and will be removed from pandas in a future version. Use pandas.concat instead.\n",
      "  second_part = second_part.append(almost_done)\n",
      "/var/folders/h4/7gdsmfk52dl1hmwgr61mg_gm0000gq/T/ipykernel_19920/2846863605.py:9: FutureWarning: The frame.append method is deprecated and will be removed from pandas in a future version. Use pandas.concat instead.\n",
      "  second_part = second_part.append(almost_done)\n"
     ]
    },
    {
     "name": "stdout",
     "output_type": "stream",
     "text": [
      "Forecast traffic situation based on statistical data to optimize the movement of public transport in real time.\n",
      "Forecast traffic situation based on statistical data to optimize the movement of public transport in real time.\n"
     ]
    },
    {
     "name": "stderr",
     "output_type": "stream",
     "text": [
      "/var/folders/h4/7gdsmfk52dl1hmwgr61mg_gm0000gq/T/ipykernel_19920/2846863605.py:9: FutureWarning: The frame.append method is deprecated and will be removed from pandas in a future version. Use pandas.concat instead.\n",
      "  second_part = second_part.append(almost_done)\n"
     ]
    },
    {
     "name": "stdout",
     "output_type": "stream",
     "text": [
      "Additive technologies and geometry optimization of machines and mechanisms\n",
      "Additive technologies and optimization of the geometry of machines and mechanisms.\n",
      "Additive technologies and geometry optimization of machines and mechanisms\n",
      "Additive technologies and optimization of the geometry of machines and mechanisms.\n"
     ]
    },
    {
     "name": "stderr",
     "output_type": "stream",
     "text": [
      "/var/folders/h4/7gdsmfk52dl1hmwgr61mg_gm0000gq/T/ipykernel_19920/2846863605.py:9: FutureWarning: The frame.append method is deprecated and will be removed from pandas in a future version. Use pandas.concat instead.\n",
      "  second_part = second_part.append(almost_done)\n",
      "/var/folders/h4/7gdsmfk52dl1hmwgr61mg_gm0000gq/T/ipykernel_19920/2846863605.py:9: FutureWarning: The frame.append method is deprecated and will be removed from pandas in a future version. Use pandas.concat instead.\n",
      "  second_part = second_part.append(almost_done)\n"
     ]
    },
    {
     "name": "stdout",
     "output_type": "stream",
     "text": [
      "Additive technologies and geometry optimization of machines and mechanisms\n",
      "Additive technologies and optimization of the geometry of machines and mechanisms.\n",
      "Additive technologies and geometry optimization of machines and mechanisms\n",
      "Additive technologies and optimization of the geometry of machines and mechanisms.\n"
     ]
    },
    {
     "name": "stderr",
     "output_type": "stream",
     "text": [
      "/var/folders/h4/7gdsmfk52dl1hmwgr61mg_gm0000gq/T/ipykernel_19920/2846863605.py:9: FutureWarning: The frame.append method is deprecated and will be removed from pandas in a future version. Use pandas.concat instead.\n",
      "  second_part = second_part.append(almost_done)\n",
      "/var/folders/h4/7gdsmfk52dl1hmwgr61mg_gm0000gq/T/ipykernel_19920/2846863605.py:9: FutureWarning: The frame.append method is deprecated and will be removed from pandas in a future version. Use pandas.concat instead.\n",
      "  second_part = second_part.append(almost_done)\n",
      "/var/folders/h4/7gdsmfk52dl1hmwgr61mg_gm0000gq/T/ipykernel_19920/2846863605.py:9: FutureWarning: The frame.append method is deprecated and will be removed from pandas in a future version. Use pandas.concat instead.\n",
      "  second_part = second_part.append(almost_done)\n"
     ]
    },
    {
     "name": "stdout",
     "output_type": "stream",
     "text": [
      "Additive technologies and geometry optimization of machines and mechanisms\n",
      "Additive technologies and optimization of the geometry of machines and mechanisms.\n",
      "Additive technologies in the production of confectionery products - from geometry to new organoleptic qualities.\n"
     ]
    },
    {
     "name": "stderr",
     "output_type": "stream",
     "text": [
      "/var/folders/h4/7gdsmfk52dl1hmwgr61mg_gm0000gq/T/ipykernel_19920/2846863605.py:9: FutureWarning: The frame.append method is deprecated and will be removed from pandas in a future version. Use pandas.concat instead.\n",
      "  second_part = second_part.append(almost_done)\n"
     ]
    },
    {
     "name": "stdout",
     "output_type": "stream",
     "text": [
      "Additive technologies in the production of confectionery products - from geometry to new organoleptic qualities.\n",
      "Additive technologies in the production of confectionery products - from geometry to new organoleptic qualities.\n"
     ]
    },
    {
     "name": "stderr",
     "output_type": "stream",
     "text": [
      "/var/folders/h4/7gdsmfk52dl1hmwgr61mg_gm0000gq/T/ipykernel_19920/2846863605.py:9: FutureWarning: The frame.append method is deprecated and will be removed from pandas in a future version. Use pandas.concat instead.\n",
      "  second_part = second_part.append(almost_done)\n",
      "/var/folders/h4/7gdsmfk52dl1hmwgr61mg_gm0000gq/T/ipykernel_19920/2846863605.py:9: FutureWarning: The frame.append method is deprecated and will be removed from pandas in a future version. Use pandas.concat instead.\n",
      "  second_part = second_part.append(almost_done)\n"
     ]
    },
    {
     "name": "stdout",
     "output_type": "stream",
     "text": [
      "Additive technologies in the production of confectionery products - from geometry to new organoleptic qualities.\n",
      "Additive technologies in the production of confectionery products - from geometry to new organoleptic qualities.\n"
     ]
    },
    {
     "name": "stderr",
     "output_type": "stream",
     "text": [
      "/var/folders/h4/7gdsmfk52dl1hmwgr61mg_gm0000gq/T/ipykernel_19920/2846863605.py:9: FutureWarning: The frame.append method is deprecated and will be removed from pandas in a future version. Use pandas.concat instead.\n",
      "  second_part = second_part.append(almost_done)\n",
      "/var/folders/h4/7gdsmfk52dl1hmwgr61mg_gm0000gq/T/ipykernel_19920/2846863605.py:9: FutureWarning: The frame.append method is deprecated and will be removed from pandas in a future version. Use pandas.concat instead.\n",
      "  second_part = second_part.append(almost_done)\n"
     ]
    },
    {
     "name": "stdout",
     "output_type": "stream",
     "text": [
      "Ant algorithm as an optimization tool in a multivariate analysis of the environmental consequences of introducing new technologies.\n",
      "Ant algorithm as an optimization tool in a multivariate analysis of the environmental consequences of introducing new technologies.\n",
      "Ant algorithm as an optimization tool in a multivariate analysis of the environmental consequences of introducing new technologies.\n"
     ]
    },
    {
     "name": "stderr",
     "output_type": "stream",
     "text": [
      "/var/folders/h4/7gdsmfk52dl1hmwgr61mg_gm0000gq/T/ipykernel_19920/2846863605.py:9: FutureWarning: The frame.append method is deprecated and will be removed from pandas in a future version. Use pandas.concat instead.\n",
      "  second_part = second_part.append(almost_done)\n",
      "/var/folders/h4/7gdsmfk52dl1hmwgr61mg_gm0000gq/T/ipykernel_19920/2846863605.py:9: FutureWarning: The frame.append method is deprecated and will be removed from pandas in a future version. Use pandas.concat instead.\n",
      "  second_part = second_part.append(almost_done)\n",
      "/var/folders/h4/7gdsmfk52dl1hmwgr61mg_gm0000gq/T/ipykernel_19920/2846863605.py:9: FutureWarning: The frame.append method is deprecated and will be removed from pandas in a future version. Use pandas.concat instead.\n",
      "  second_part = second_part.append(almost_done)\n"
     ]
    },
    {
     "name": "stdout",
     "output_type": "stream",
     "text": [
      "Ant algorithm as an optimization tool in a multivariate analysis of the environmental consequences of introducing new technologies.\n",
      "Ant algorithm as an optimization tool in a multivariate analysis of the environmental consequences of introducing new technologies.\n"
     ]
    },
    {
     "name": "stderr",
     "output_type": "stream",
     "text": [
      "/var/folders/h4/7gdsmfk52dl1hmwgr61mg_gm0000gq/T/ipykernel_19920/2846863605.py:9: FutureWarning: The frame.append method is deprecated and will be removed from pandas in a future version. Use pandas.concat instead.\n",
      "  second_part = second_part.append(almost_done)\n",
      "/var/folders/h4/7gdsmfk52dl1hmwgr61mg_gm0000gq/T/ipykernel_19920/2846863605.py:9: FutureWarning: The frame.append method is deprecated and will be removed from pandas in a future version. Use pandas.concat instead.\n",
      "  second_part = second_part.append(almost_done)\n"
     ]
    },
    {
     "name": "stdout",
     "output_type": "stream",
     "text": [
      "Features of material flow accounting for efficient supply chain management.\n",
      "Features of material flow accounting for efficient supply chain management.\n"
     ]
    },
    {
     "name": "stderr",
     "output_type": "stream",
     "text": [
      "/var/folders/h4/7gdsmfk52dl1hmwgr61mg_gm0000gq/T/ipykernel_19920/2846863605.py:9: FutureWarning: The frame.append method is deprecated and will be removed from pandas in a future version. Use pandas.concat instead.\n",
      "  second_part = second_part.append(almost_done)\n",
      "/var/folders/h4/7gdsmfk52dl1hmwgr61mg_gm0000gq/T/ipykernel_19920/2846863605.py:9: FutureWarning: The frame.append method is deprecated and will be removed from pandas in a future version. Use pandas.concat instead.\n",
      "  second_part = second_part.append(almost_done)\n"
     ]
    },
    {
     "name": "stdout",
     "output_type": "stream",
     "text": [
      "Features of material flow accounting for efficient supply chain management.\n",
      "Features of material flow accounting for efficient supply chain management.\n"
     ]
    },
    {
     "name": "stderr",
     "output_type": "stream",
     "text": [
      "/var/folders/h4/7gdsmfk52dl1hmwgr61mg_gm0000gq/T/ipykernel_19920/2846863605.py:9: FutureWarning: The frame.append method is deprecated and will be removed from pandas in a future version. Use pandas.concat instead.\n",
      "  second_part = second_part.append(almost_done)\n",
      "/var/folders/h4/7gdsmfk52dl1hmwgr61mg_gm0000gq/T/ipykernel_19920/2846863605.py:9: FutureWarning: The frame.append method is deprecated and will be removed from pandas in a future version. Use pandas.concat instead.\n",
      "  second_part = second_part.append(almost_done)\n"
     ]
    },
    {
     "name": "stdout",
     "output_type": "stream",
     "text": [
      "Features of material flow accounting for efficient supply chain management.\n"
     ]
    },
    {
     "name": "stderr",
     "output_type": "stream",
     "text": [
      "/var/folders/h4/7gdsmfk52dl1hmwgr61mg_gm0000gq/T/ipykernel_19920/2846863605.py:9: FutureWarning: The frame.append method is deprecated and will be removed from pandas in a future version. Use pandas.concat instead.\n",
      "  second_part = second_part.append(almost_done)\n"
     ]
    },
    {
     "name": "stdout",
     "output_type": "stream",
     "text": [
      "Sustainable supply chain management and dynamic opportunities in agricultural production.\n",
      "Sustainable supply chain management and dynamic opportunities in agricultural production.\n"
     ]
    },
    {
     "name": "stderr",
     "output_type": "stream",
     "text": [
      "/var/folders/h4/7gdsmfk52dl1hmwgr61mg_gm0000gq/T/ipykernel_19920/2846863605.py:9: FutureWarning: The frame.append method is deprecated and will be removed from pandas in a future version. Use pandas.concat instead.\n",
      "  second_part = second_part.append(almost_done)\n",
      "/var/folders/h4/7gdsmfk52dl1hmwgr61mg_gm0000gq/T/ipykernel_19920/2846863605.py:9: FutureWarning: The frame.append method is deprecated and will be removed from pandas in a future version. Use pandas.concat instead.\n",
      "  second_part = second_part.append(almost_done)\n",
      "/var/folders/h4/7gdsmfk52dl1hmwgr61mg_gm0000gq/T/ipykernel_19920/2846863605.py:9: FutureWarning: The frame.append method is deprecated and will be removed from pandas in a future version. Use pandas.concat instead.\n",
      "  second_part = second_part.append(almost_done)\n"
     ]
    },
    {
     "name": "stdout",
     "output_type": "stream",
     "text": [
      "Sustainable supply chain management and dynamic opportunities in agricultural production.\n",
      "Sustainable supply chain management and dynamic opportunities in agricultural production.\n"
     ]
    },
    {
     "name": "stderr",
     "output_type": "stream",
     "text": [
      "/var/folders/h4/7gdsmfk52dl1hmwgr61mg_gm0000gq/T/ipykernel_19920/2846863605.py:9: FutureWarning: The frame.append method is deprecated and will be removed from pandas in a future version. Use pandas.concat instead.\n",
      "  second_part = second_part.append(almost_done)\n",
      "/var/folders/h4/7gdsmfk52dl1hmwgr61mg_gm0000gq/T/ipykernel_19920/2846863605.py:9: FutureWarning: The frame.append method is deprecated and will be removed from pandas in a future version. Use pandas.concat instead.\n",
      "  second_part = second_part.append(almost_done)\n"
     ]
    },
    {
     "name": "stdout",
     "output_type": "stream",
     "text": [
      "Sustainable supply chain management and dynamic opportunities in agricultural production.\n",
      "Competitive advantage of using information technology in supply chain management.\n",
      "Competitive advantage of using information technology in supply chain management.\n"
     ]
    },
    {
     "name": "stderr",
     "output_type": "stream",
     "text": [
      "/var/folders/h4/7gdsmfk52dl1hmwgr61mg_gm0000gq/T/ipykernel_19920/2846863605.py:9: FutureWarning: The frame.append method is deprecated and will be removed from pandas in a future version. Use pandas.concat instead.\n",
      "  second_part = second_part.append(almost_done)\n",
      "/var/folders/h4/7gdsmfk52dl1hmwgr61mg_gm0000gq/T/ipykernel_19920/2846863605.py:9: FutureWarning: The frame.append method is deprecated and will be removed from pandas in a future version. Use pandas.concat instead.\n",
      "  second_part = second_part.append(almost_done)\n"
     ]
    },
    {
     "name": "stdout",
     "output_type": "stream",
     "text": [
      "Competitive advantage of using information technology in supply chain management.\n",
      "Competitive advantage of using information technology in supply chain management.\n"
     ]
    },
    {
     "name": "stderr",
     "output_type": "stream",
     "text": [
      "/var/folders/h4/7gdsmfk52dl1hmwgr61mg_gm0000gq/T/ipykernel_19920/2846863605.py:9: FutureWarning: The frame.append method is deprecated and will be removed from pandas in a future version. Use pandas.concat instead.\n",
      "  second_part = second_part.append(almost_done)\n",
      "/var/folders/h4/7gdsmfk52dl1hmwgr61mg_gm0000gq/T/ipykernel_19920/2846863605.py:9: FutureWarning: The frame.append method is deprecated and will be removed from pandas in a future version. Use pandas.concat instead.\n",
      "  second_part = second_part.append(almost_done)\n"
     ]
    },
    {
     "name": "stdout",
     "output_type": "stream",
     "text": [
      "Competitive advantage of using information technology in supply chain management.\n"
     ]
    },
    {
     "name": "stderr",
     "output_type": "stream",
     "text": [
      "/var/folders/h4/7gdsmfk52dl1hmwgr61mg_gm0000gq/T/ipykernel_19920/2846863605.py:9: FutureWarning: The frame.append method is deprecated and will be removed from pandas in a future version. Use pandas.concat instead.\n",
      "  second_part = second_part.append(almost_done)\n"
     ]
    },
    {
     "name": "stdout",
     "output_type": "stream",
     "text": [
      "The role of supply chain management for two-tier trade lending finance.\n",
      "The role of supply chain management for two-tier trade lending finance.\n"
     ]
    },
    {
     "name": "stderr",
     "output_type": "stream",
     "text": [
      "/var/folders/h4/7gdsmfk52dl1hmwgr61mg_gm0000gq/T/ipykernel_19920/2846863605.py:9: FutureWarning: The frame.append method is deprecated and will be removed from pandas in a future version. Use pandas.concat instead.\n",
      "  second_part = second_part.append(almost_done)\n",
      "/var/folders/h4/7gdsmfk52dl1hmwgr61mg_gm0000gq/T/ipykernel_19920/2846863605.py:9: FutureWarning: The frame.append method is deprecated and will be removed from pandas in a future version. Use pandas.concat instead.\n",
      "  second_part = second_part.append(almost_done)\n"
     ]
    },
    {
     "name": "stdout",
     "output_type": "stream",
     "text": [
      "The role of supply chain management for two-tier trade lending finance.\n",
      "The role of supply chain management for two-tier trade lending finance.\n"
     ]
    },
    {
     "name": "stderr",
     "output_type": "stream",
     "text": [
      "/var/folders/h4/7gdsmfk52dl1hmwgr61mg_gm0000gq/T/ipykernel_19920/2846863605.py:9: FutureWarning: The frame.append method is deprecated and will be removed from pandas in a future version. Use pandas.concat instead.\n",
      "  second_part = second_part.append(almost_done)\n",
      "/var/folders/h4/7gdsmfk52dl1hmwgr61mg_gm0000gq/T/ipykernel_19920/2846863605.py:9: FutureWarning: The frame.append method is deprecated and will be removed from pandas in a future version. Use pandas.concat instead.\n",
      "  second_part = second_part.append(almost_done)\n"
     ]
    },
    {
     "name": "stdout",
     "output_type": "stream",
     "text": [
      "The role of supply chain management for two-tier trade lending finance.\n",
      "Opportunities and barriers of flexible supply chain management in transnational corporations.\n"
     ]
    },
    {
     "name": "stderr",
     "output_type": "stream",
     "text": [
      "/var/folders/h4/7gdsmfk52dl1hmwgr61mg_gm0000gq/T/ipykernel_19920/2846863605.py:9: FutureWarning: The frame.append method is deprecated and will be removed from pandas in a future version. Use pandas.concat instead.\n",
      "  second_part = second_part.append(almost_done)\n",
      "/var/folders/h4/7gdsmfk52dl1hmwgr61mg_gm0000gq/T/ipykernel_19920/2846863605.py:9: FutureWarning: The frame.append method is deprecated and will be removed from pandas in a future version. Use pandas.concat instead.\n",
      "  second_part = second_part.append(almost_done)\n"
     ]
    },
    {
     "name": "stdout",
     "output_type": "stream",
     "text": [
      "Opportunities and barriers of flexible supply chain management in transnational corporations.\n",
      "Opportunities and barriers of flexible supply chain management in transnational corporations.\n",
      "Opportunities and barriers of flexible supply chain management in transnational corporations.\n"
     ]
    },
    {
     "name": "stderr",
     "output_type": "stream",
     "text": [
      "/var/folders/h4/7gdsmfk52dl1hmwgr61mg_gm0000gq/T/ipykernel_19920/2846863605.py:9: FutureWarning: The frame.append method is deprecated and will be removed from pandas in a future version. Use pandas.concat instead.\n",
      "  second_part = second_part.append(almost_done)\n",
      "/var/folders/h4/7gdsmfk52dl1hmwgr61mg_gm0000gq/T/ipykernel_19920/2846863605.py:9: FutureWarning: The frame.append method is deprecated and will be removed from pandas in a future version. Use pandas.concat instead.\n",
      "  second_part = second_part.append(almost_done)\n"
     ]
    },
    {
     "name": "stdout",
     "output_type": "stream",
     "text": [
      "Opportunities and barriers of flexible supply chain management in transnational corporations.\n"
     ]
    },
    {
     "name": "stderr",
     "output_type": "stream",
     "text": [
      "/var/folders/h4/7gdsmfk52dl1hmwgr61mg_gm0000gq/T/ipykernel_19920/2846863605.py:9: FutureWarning: The frame.append method is deprecated and will be removed from pandas in a future version. Use pandas.concat instead.\n",
      "  second_part = second_part.append(almost_done)\n",
      "/var/folders/h4/7gdsmfk52dl1hmwgr61mg_gm0000gq/T/ipykernel_19920/2846863605.py:9: FutureWarning: The frame.append method is deprecated and will be removed from pandas in a future version. Use pandas.concat instead.\n",
      "  second_part = second_part.append(almost_done)\n"
     ]
    }
   ],
   "source": [
    "translator = Translator()\n",
    "second_part = pd.DataFrame(columns = ['English_Title'])\n",
    "\n",
    "for part in data['Title']:\n",
    "    translation = translator.translate(part)\n",
    "    print(translation.text)\n",
    "    dataa = {'English_Title' : [translation.text]} \n",
    "    almost_done = pd.DataFrame(dataa) \n",
    "    second_part = second_part.append(almost_done)"
   ]
  },
  {
   "cell_type": "code",
   "execution_count": 9,
   "metadata": {},
   "outputs": [
    {
     "name": "stdout",
     "output_type": "stream",
     "text": [
      "Роль управление цепочкой поставок для двухуровневого торгового кредитного финансирования. (ru) --> The role of supply chain management for two-tier trade lending finance. (en)\n"
     ]
    }
   ],
   "source": [
    "translator = Translator()\n",
    "translation = translator.translate(\"Роль управление цепочкой поставок для двухуровневого торгового кредитного финансирования.\")\n",
    "print(f\"{translation.origin} ({translation.src}) --> {translation.text} ({translation.dest})\")\n"
   ]
  },
  {
   "cell_type": "code",
   "execution_count": null,
   "metadata": {},
   "outputs": [],
   "source": []
  }
 ],
 "metadata": {
  "kernelspec": {
   "display_name": "Python 3 (ipykernel)",
   "language": "python",
   "name": "python3"
  },
  "language_info": {
   "codemirror_mode": {
    "name": "ipython",
    "version": 3
   },
   "file_extension": ".py",
   "mimetype": "text/x-python",
   "name": "python",
   "nbconvert_exporter": "python",
   "pygments_lexer": "ipython3",
   "version": "3.8.11"
  }
 },
 "nbformat": 4,
 "nbformat_minor": 4
}
